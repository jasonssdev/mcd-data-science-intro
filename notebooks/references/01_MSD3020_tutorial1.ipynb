{
  "cells": [
    {
      "cell_type": "markdown",
      "metadata": {
        "id": "sj5rVDG9sJME"
      },
      "source": [
        "# <img style=\"float: left; padding: 0px 10px 0px 0px;\" src=\"https://upload.wikimedia.org/wikipedia/commons/thumb/8/84/Escudo_de_la_Pontificia_Universidad_Cat%C3%B3lica_de_Chile.svg/1920px-Escudo_de_la_Pontificia_Universidad_Cat%C3%B3lica_de_Chile.svg.png\"  width=\"80\" /> MDS2030 - Introducción a Ciencia de Datos\n",
        "**Pontificia Universidad Católica de Chile**<br>\n",
        "**Magister en Ciencia de Datos**<br>\n"
      ]
    },
    {
      "cell_type": "markdown",
      "metadata": {
        "id": "IC51UCWfsJMT"
      },
      "source": [
        "# Tutorial 1: Importación y Manejo de Datos en Múltiple Formatos.\n",
        "\n",
        "Este tutorial tiene com objetivo demostrar los principales métodos de la librería `pandas` de Python para leer y manipular datos en distintos formatos. En particular, abordaremos los siguientes temas: \n",
        "\n",
        "* Importación e inspección de datos estructurados en formatos `.csv`y `.xlsx`.\n",
        "* Importación y manipulación de datos semiestructurados en formato `.json`.\n",
        "\n",
        "La documentación de pandas asociada a métodos de lectura y escritura de datos está disponible en el siguiente link:\n",
        "\n",
        "https://pandas.pydata.org/pandas-docs/stable/user_guide/io.html"
      ]
    },
    {
      "cell_type": "code",
      "execution_count": 1,
      "metadata": {
        "id": "s0yG-9UgsJMV"
      },
      "outputs": [],
      "source": [
        "#Primero, importamos las librerías a utilizar\n",
        "import pandas as pd"
      ]
    },
    {
      "cell_type": "markdown",
      "metadata": {
        "id": "9_V_VmIfsJMY"
      },
      "source": [
        "## 1. Importación e inspección de datos estructurados.\n",
        "\n",
        "Para demostrar la lectura e inspección de datos estructurados, consideremos por ejemplo el siguiente dataset: \n",
        "- listado de productos de un negocio de artículos de librería, cada uno con un nombre, código, marca, costo, precio de venta, y número de unidades disponibles. \n",
        "\n",
        "Este conjunto de datos puede estar disponible en algún formato de datos estructurados como `.csv` o `.xlsx`, propio de software de planillas de cálculo como MS Excel."
      ]
    },
    {
      "cell_type": "markdown",
      "metadata": {
        "id": "fOKPs8tHsJMZ"
      },
      "source": [
        "### 1.1 Lectura de datos en formato de texto plano (csv)\n",
        "\n",
        "https://pandas.pydata.org/docs/reference/api/pandas.read_csv.html"
      ]
    },
    {
      "cell_type": "code",
      "execution_count": 2,
      "metadata": {
        "colab": {
          "base_uri": "https://localhost:8080/",
          "height": 864
        },
        "id": "HR11mMjDsJMZ",
        "outputId": "ce63f8ad-67c7-4121-e962-ebdce7aed0f3"
      },
      "outputs": [
        {
          "data": {
            "application/vnd.microsoft.datawrangler.viewer.v0+json": {
              "columns": [
                {
                  "name": "index",
                  "rawType": "int64",
                  "type": "integer"
                },
                {
                  "name": "Producto",
                  "rawType": "object",
                  "type": "string"
                },
                {
                  "name": "Marca",
                  "rawType": "object",
                  "type": "string"
                },
                {
                  "name": "CodigoSKU",
                  "rawType": "int64",
                  "type": "integer"
                },
                {
                  "name": "Costo",
                  "rawType": "int64",
                  "type": "integer"
                },
                {
                  "name": "PrecioVenta",
                  "rawType": "float64",
                  "type": "float"
                },
                {
                  "name": "Unidades",
                  "rawType": "int64",
                  "type": "integer"
                }
              ],
              "ref": "fcd42fef-15da-4c71-a582-e9a82561a486",
              "rows": [
                [
                  "0",
                  "Cuaderno lineas",
                  "SVLUS",
                  "1003789",
                  "1210",
                  "1452.0",
                  "116"
                ],
                [
                  "1",
                  "Cuaderno cuadros",
                  "SVLUS",
                  "1929835",
                  "1210",
                  "1452.0",
                  "165"
                ],
                [
                  "2",
                  "Lapiz grafito",
                  "Lappau",
                  "1366925",
                  "470",
                  "564.0",
                  "194"
                ],
                [
                  "3",
                  "Goma de borrar",
                  "Lappau",
                  "1461758",
                  "285",
                  "342.0",
                  "131"
                ],
                [
                  "4",
                  "Corchetera",
                  "Officia",
                  "1835948",
                  "3250",
                  "3900.0",
                  "190"
                ],
                [
                  "5",
                  "Pincel fino",
                  "ArtM",
                  "1992659",
                  "990",
                  "1188.0",
                  "139"
                ],
                [
                  "6",
                  "Pincel grueso",
                  "ArtM",
                  "1959137",
                  "1100",
                  "1320.0",
                  "198"
                ],
                [
                  "7",
                  "Acrilico 6 colores",
                  "ArtM",
                  "1124149",
                  "7320",
                  "8784.0",
                  "45"
                ],
                [
                  "8",
                  "Mezclador 6 ",
                  "ArtM",
                  "1954385",
                  "890",
                  "1068.0",
                  "138"
                ],
                [
                  "9",
                  "Toner",
                  "TechOf",
                  "1301317",
                  "15230",
                  "18276.0",
                  "145"
                ],
                [
                  "10",
                  "Resma carta",
                  "MultiOffice",
                  "1987180",
                  "4580",
                  "5496.0",
                  "7"
                ],
                [
                  "11",
                  "Corrector blanco",
                  "MultiOffice",
                  "1062342",
                  "2565",
                  "3078.0",
                  "80"
                ],
                [
                  "12",
                  "Tijera escolar",
                  "Lappau",
                  "1939778",
                  "2200",
                  "2640.0",
                  "75"
                ],
                [
                  "13",
                  "Destacador amarillo",
                  "Lappau",
                  "1918078",
                  "1320",
                  "1584.0",
                  "124"
                ],
                [
                  "14",
                  "Destacador verde",
                  "Lappau",
                  "1028765",
                  "1320",
                  "1584.0",
                  "21"
                ],
                [
                  "15",
                  "Block notas",
                  "MultiPaper",
                  "1375330",
                  "3128",
                  "3753.6",
                  "42"
                ],
                [
                  "16",
                  "Marcador pizarra azul",
                  "Officia",
                  "1045223",
                  "1530",
                  "1836.0",
                  "131"
                ],
                [
                  "17",
                  "Marcador pizarra negro",
                  "Officia",
                  "1818443",
                  "1530",
                  "1836.0",
                  "154"
                ],
                [
                  "18",
                  "Perforadora",
                  "Officia",
                  "1302786",
                  "6430",
                  "7716.0",
                  "29"
                ],
                [
                  "19",
                  "Clips 100U",
                  "MultiOffice",
                  "1967352",
                  "650",
                  "780.0",
                  "128"
                ],
                [
                  "20",
                  "Clips 1000U",
                  "MultiOffice",
                  "1912077",
                  "5235",
                  "6282.0",
                  "19"
                ],
                [
                  "21",
                  "Borrador",
                  "Officia",
                  "1875869",
                  "6780",
                  "8136.0",
                  "25"
                ],
                [
                  "22",
                  "Barra pegamento",
                  "ArtM",
                  "1898500",
                  "765",
                  "918.0",
                  "52"
                ],
                [
                  "23",
                  "Bolígrafo azul",
                  "Lappau",
                  "1039715",
                  "525",
                  "630.0",
                  "168"
                ],
                [
                  "24",
                  "Bolígrafo negro",
                  "Lappau",
                  "1590428",
                  "530",
                  "636.0",
                  "142"
                ],
                [
                  "25",
                  "Bolígrafo rojo",
                  "Lappau",
                  "1760135",
                  "530",
                  "636.0",
                  "73"
                ]
              ],
              "shape": {
                "columns": 6,
                "rows": 26
              }
            },
            "text/html": [
              "<div>\n",
              "<style scoped>\n",
              "    .dataframe tbody tr th:only-of-type {\n",
              "        vertical-align: middle;\n",
              "    }\n",
              "\n",
              "    .dataframe tbody tr th {\n",
              "        vertical-align: top;\n",
              "    }\n",
              "\n",
              "    .dataframe thead th {\n",
              "        text-align: right;\n",
              "    }\n",
              "</style>\n",
              "<table border=\"1\" class=\"dataframe\">\n",
              "  <thead>\n",
              "    <tr style=\"text-align: right;\">\n",
              "      <th></th>\n",
              "      <th>Producto</th>\n",
              "      <th>Marca</th>\n",
              "      <th>CodigoSKU</th>\n",
              "      <th>Costo</th>\n",
              "      <th>PrecioVenta</th>\n",
              "      <th>Unidades</th>\n",
              "    </tr>\n",
              "  </thead>\n",
              "  <tbody>\n",
              "    <tr>\n",
              "      <th>0</th>\n",
              "      <td>Cuaderno lineas</td>\n",
              "      <td>SVLUS</td>\n",
              "      <td>1003789</td>\n",
              "      <td>1210</td>\n",
              "      <td>1452.0</td>\n",
              "      <td>116</td>\n",
              "    </tr>\n",
              "    <tr>\n",
              "      <th>1</th>\n",
              "      <td>Cuaderno cuadros</td>\n",
              "      <td>SVLUS</td>\n",
              "      <td>1929835</td>\n",
              "      <td>1210</td>\n",
              "      <td>1452.0</td>\n",
              "      <td>165</td>\n",
              "    </tr>\n",
              "    <tr>\n",
              "      <th>2</th>\n",
              "      <td>Lapiz grafito</td>\n",
              "      <td>Lappau</td>\n",
              "      <td>1366925</td>\n",
              "      <td>470</td>\n",
              "      <td>564.0</td>\n",
              "      <td>194</td>\n",
              "    </tr>\n",
              "    <tr>\n",
              "      <th>3</th>\n",
              "      <td>Goma de borrar</td>\n",
              "      <td>Lappau</td>\n",
              "      <td>1461758</td>\n",
              "      <td>285</td>\n",
              "      <td>342.0</td>\n",
              "      <td>131</td>\n",
              "    </tr>\n",
              "    <tr>\n",
              "      <th>4</th>\n",
              "      <td>Corchetera</td>\n",
              "      <td>Officia</td>\n",
              "      <td>1835948</td>\n",
              "      <td>3250</td>\n",
              "      <td>3900.0</td>\n",
              "      <td>190</td>\n",
              "    </tr>\n",
              "    <tr>\n",
              "      <th>5</th>\n",
              "      <td>Pincel fino</td>\n",
              "      <td>ArtM</td>\n",
              "      <td>1992659</td>\n",
              "      <td>990</td>\n",
              "      <td>1188.0</td>\n",
              "      <td>139</td>\n",
              "    </tr>\n",
              "    <tr>\n",
              "      <th>6</th>\n",
              "      <td>Pincel grueso</td>\n",
              "      <td>ArtM</td>\n",
              "      <td>1959137</td>\n",
              "      <td>1100</td>\n",
              "      <td>1320.0</td>\n",
              "      <td>198</td>\n",
              "    </tr>\n",
              "    <tr>\n",
              "      <th>7</th>\n",
              "      <td>Acrilico 6 colores</td>\n",
              "      <td>ArtM</td>\n",
              "      <td>1124149</td>\n",
              "      <td>7320</td>\n",
              "      <td>8784.0</td>\n",
              "      <td>45</td>\n",
              "    </tr>\n",
              "    <tr>\n",
              "      <th>8</th>\n",
              "      <td>Mezclador 6</td>\n",
              "      <td>ArtM</td>\n",
              "      <td>1954385</td>\n",
              "      <td>890</td>\n",
              "      <td>1068.0</td>\n",
              "      <td>138</td>\n",
              "    </tr>\n",
              "    <tr>\n",
              "      <th>9</th>\n",
              "      <td>Toner</td>\n",
              "      <td>TechOf</td>\n",
              "      <td>1301317</td>\n",
              "      <td>15230</td>\n",
              "      <td>18276.0</td>\n",
              "      <td>145</td>\n",
              "    </tr>\n",
              "    <tr>\n",
              "      <th>10</th>\n",
              "      <td>Resma carta</td>\n",
              "      <td>MultiOffice</td>\n",
              "      <td>1987180</td>\n",
              "      <td>4580</td>\n",
              "      <td>5496.0</td>\n",
              "      <td>7</td>\n",
              "    </tr>\n",
              "    <tr>\n",
              "      <th>11</th>\n",
              "      <td>Corrector blanco</td>\n",
              "      <td>MultiOffice</td>\n",
              "      <td>1062342</td>\n",
              "      <td>2565</td>\n",
              "      <td>3078.0</td>\n",
              "      <td>80</td>\n",
              "    </tr>\n",
              "    <tr>\n",
              "      <th>12</th>\n",
              "      <td>Tijera escolar</td>\n",
              "      <td>Lappau</td>\n",
              "      <td>1939778</td>\n",
              "      <td>2200</td>\n",
              "      <td>2640.0</td>\n",
              "      <td>75</td>\n",
              "    </tr>\n",
              "    <tr>\n",
              "      <th>13</th>\n",
              "      <td>Destacador amarillo</td>\n",
              "      <td>Lappau</td>\n",
              "      <td>1918078</td>\n",
              "      <td>1320</td>\n",
              "      <td>1584.0</td>\n",
              "      <td>124</td>\n",
              "    </tr>\n",
              "    <tr>\n",
              "      <th>14</th>\n",
              "      <td>Destacador verde</td>\n",
              "      <td>Lappau</td>\n",
              "      <td>1028765</td>\n",
              "      <td>1320</td>\n",
              "      <td>1584.0</td>\n",
              "      <td>21</td>\n",
              "    </tr>\n",
              "    <tr>\n",
              "      <th>15</th>\n",
              "      <td>Block notas</td>\n",
              "      <td>MultiPaper</td>\n",
              "      <td>1375330</td>\n",
              "      <td>3128</td>\n",
              "      <td>3753.6</td>\n",
              "      <td>42</td>\n",
              "    </tr>\n",
              "    <tr>\n",
              "      <th>16</th>\n",
              "      <td>Marcador pizarra azul</td>\n",
              "      <td>Officia</td>\n",
              "      <td>1045223</td>\n",
              "      <td>1530</td>\n",
              "      <td>1836.0</td>\n",
              "      <td>131</td>\n",
              "    </tr>\n",
              "    <tr>\n",
              "      <th>17</th>\n",
              "      <td>Marcador pizarra negro</td>\n",
              "      <td>Officia</td>\n",
              "      <td>1818443</td>\n",
              "      <td>1530</td>\n",
              "      <td>1836.0</td>\n",
              "      <td>154</td>\n",
              "    </tr>\n",
              "    <tr>\n",
              "      <th>18</th>\n",
              "      <td>Perforadora</td>\n",
              "      <td>Officia</td>\n",
              "      <td>1302786</td>\n",
              "      <td>6430</td>\n",
              "      <td>7716.0</td>\n",
              "      <td>29</td>\n",
              "    </tr>\n",
              "    <tr>\n",
              "      <th>19</th>\n",
              "      <td>Clips 100U</td>\n",
              "      <td>MultiOffice</td>\n",
              "      <td>1967352</td>\n",
              "      <td>650</td>\n",
              "      <td>780.0</td>\n",
              "      <td>128</td>\n",
              "    </tr>\n",
              "    <tr>\n",
              "      <th>20</th>\n",
              "      <td>Clips 1000U</td>\n",
              "      <td>MultiOffice</td>\n",
              "      <td>1912077</td>\n",
              "      <td>5235</td>\n",
              "      <td>6282.0</td>\n",
              "      <td>19</td>\n",
              "    </tr>\n",
              "    <tr>\n",
              "      <th>21</th>\n",
              "      <td>Borrador</td>\n",
              "      <td>Officia</td>\n",
              "      <td>1875869</td>\n",
              "      <td>6780</td>\n",
              "      <td>8136.0</td>\n",
              "      <td>25</td>\n",
              "    </tr>\n",
              "    <tr>\n",
              "      <th>22</th>\n",
              "      <td>Barra pegamento</td>\n",
              "      <td>ArtM</td>\n",
              "      <td>1898500</td>\n",
              "      <td>765</td>\n",
              "      <td>918.0</td>\n",
              "      <td>52</td>\n",
              "    </tr>\n",
              "    <tr>\n",
              "      <th>23</th>\n",
              "      <td>Bolígrafo azul</td>\n",
              "      <td>Lappau</td>\n",
              "      <td>1039715</td>\n",
              "      <td>525</td>\n",
              "      <td>630.0</td>\n",
              "      <td>168</td>\n",
              "    </tr>\n",
              "    <tr>\n",
              "      <th>24</th>\n",
              "      <td>Bolígrafo negro</td>\n",
              "      <td>Lappau</td>\n",
              "      <td>1590428</td>\n",
              "      <td>530</td>\n",
              "      <td>636.0</td>\n",
              "      <td>142</td>\n",
              "    </tr>\n",
              "    <tr>\n",
              "      <th>25</th>\n",
              "      <td>Bolígrafo rojo</td>\n",
              "      <td>Lappau</td>\n",
              "      <td>1760135</td>\n",
              "      <td>530</td>\n",
              "      <td>636.0</td>\n",
              "      <td>73</td>\n",
              "    </tr>\n",
              "  </tbody>\n",
              "</table>\n",
              "</div>"
            ],
            "text/plain": [
              "                  Producto        Marca  CodigoSKU  Costo  PrecioVenta  \\\n",
              "0          Cuaderno lineas        SVLUS    1003789   1210       1452.0   \n",
              "1         Cuaderno cuadros        SVLUS    1929835   1210       1452.0   \n",
              "2            Lapiz grafito       Lappau    1366925    470        564.0   \n",
              "3           Goma de borrar       Lappau    1461758    285        342.0   \n",
              "4               Corchetera      Officia    1835948   3250       3900.0   \n",
              "5              Pincel fino         ArtM    1992659    990       1188.0   \n",
              "6            Pincel grueso         ArtM    1959137   1100       1320.0   \n",
              "7       Acrilico 6 colores         ArtM    1124149   7320       8784.0   \n",
              "8             Mezclador 6          ArtM    1954385    890       1068.0   \n",
              "9                    Toner       TechOf    1301317  15230      18276.0   \n",
              "10             Resma carta  MultiOffice    1987180   4580       5496.0   \n",
              "11        Corrector blanco  MultiOffice    1062342   2565       3078.0   \n",
              "12          Tijera escolar       Lappau    1939778   2200       2640.0   \n",
              "13     Destacador amarillo       Lappau    1918078   1320       1584.0   \n",
              "14        Destacador verde       Lappau    1028765   1320       1584.0   \n",
              "15             Block notas   MultiPaper    1375330   3128       3753.6   \n",
              "16   Marcador pizarra azul      Officia    1045223   1530       1836.0   \n",
              "17  Marcador pizarra negro      Officia    1818443   1530       1836.0   \n",
              "18             Perforadora      Officia    1302786   6430       7716.0   \n",
              "19              Clips 100U  MultiOffice    1967352    650        780.0   \n",
              "20             Clips 1000U  MultiOffice    1912077   5235       6282.0   \n",
              "21                Borrador      Officia    1875869   6780       8136.0   \n",
              "22         Barra pegamento         ArtM    1898500    765        918.0   \n",
              "23          Bolígrafo azul       Lappau    1039715    525        630.0   \n",
              "24         Bolígrafo negro       Lappau    1590428    530        636.0   \n",
              "25          Bolígrafo rojo       Lappau    1760135    530        636.0   \n",
              "\n",
              "    Unidades  \n",
              "0        116  \n",
              "1        165  \n",
              "2        194  \n",
              "3        131  \n",
              "4        190  \n",
              "5        139  \n",
              "6        198  \n",
              "7         45  \n",
              "8        138  \n",
              "9        145  \n",
              "10         7  \n",
              "11        80  \n",
              "12        75  \n",
              "13       124  \n",
              "14        21  \n",
              "15        42  \n",
              "16       131  \n",
              "17       154  \n",
              "18        29  \n",
              "19       128  \n",
              "20        19  \n",
              "21        25  \n",
              "22        52  \n",
              "23       168  \n",
              "24       142  \n",
              "25        73  "
            ]
          },
          "execution_count": 2,
          "metadata": {},
          "output_type": "execute_result"
        }
      ],
      "source": [
        "data_file='https://github.com/paguirre-uc/mds3020_2022/blob/main/semana1/tutorial1_productos.csv?raw=true'\n",
        "\n",
        "#alternativa si descargan localmente el archivo de datos:\n",
        "#data_file=tutorial1_productos.csv\n",
        "\n",
        "df=pd.read_csv(data_file,sep=';')\n",
        "df"
      ]
    },
    {
      "cell_type": "markdown",
      "metadata": {
        "id": "LGfaoFPMsJMb"
      },
      "source": [
        "### 1.2 Lectura de datos en formato binario (xlsx)\n",
        "\n",
        "\n",
        "https://pandas.pydata.org/docs/reference/api/pandas.read_excel.html\n",
        "\n"
      ]
    },
    {
      "cell_type": "code",
      "execution_count": 3,
      "metadata": {
        "colab": {
          "base_uri": "https://localhost:8080/",
          "height": 864
        },
        "id": "C37CwQuusJMc",
        "outputId": "d9726d6c-859e-44ce-d750-456148697e69"
      },
      "outputs": [
        {
          "data": {
            "application/vnd.microsoft.datawrangler.viewer.v0+json": {
              "columns": [
                {
                  "name": "index",
                  "rawType": "int64",
                  "type": "integer"
                },
                {
                  "name": "Producto",
                  "rawType": "object",
                  "type": "string"
                },
                {
                  "name": "Marca",
                  "rawType": "object",
                  "type": "string"
                },
                {
                  "name": "CodigoSKU",
                  "rawType": "int64",
                  "type": "integer"
                },
                {
                  "name": "Costo",
                  "rawType": "int64",
                  "type": "integer"
                },
                {
                  "name": "PrecioVenta",
                  "rawType": "float64",
                  "type": "float"
                },
                {
                  "name": "Unidades",
                  "rawType": "int64",
                  "type": "integer"
                }
              ],
              "ref": "a967b748-2ea7-46fc-b644-3b0cc621ccf4",
              "rows": [
                [
                  "0",
                  "Cuaderno lineas",
                  "SVLUS",
                  "1003789",
                  "1210",
                  "1452.0",
                  "116"
                ],
                [
                  "1",
                  "Cuaderno cuadros",
                  "SVLUS",
                  "1929835",
                  "1210",
                  "1452.0",
                  "165"
                ],
                [
                  "2",
                  "Lapiz grafito",
                  "Lappau",
                  "1366925",
                  "470",
                  "564.0",
                  "194"
                ],
                [
                  "3",
                  "Goma de borrar",
                  "Lappau",
                  "1461758",
                  "285",
                  "342.0",
                  "131"
                ],
                [
                  "4",
                  "Corchetera",
                  "Officia",
                  "1835948",
                  "3250",
                  "3900.0",
                  "190"
                ],
                [
                  "5",
                  "Pincel fino",
                  "ArtM",
                  "1992659",
                  "990",
                  "1188.0",
                  "139"
                ],
                [
                  "6",
                  "Pincel grueso",
                  "ArtM",
                  "1959137",
                  "1100",
                  "1320.0",
                  "198"
                ],
                [
                  "7",
                  "Acrilico 6 colores",
                  "ArtM",
                  "1124149",
                  "7320",
                  "8784.0",
                  "45"
                ],
                [
                  "8",
                  "Mezclador 6 ",
                  "ArtM",
                  "1954385",
                  "890",
                  "1068.0",
                  "138"
                ],
                [
                  "9",
                  "Toner",
                  "TechOf",
                  "1301317",
                  "15230",
                  "18276.0",
                  "145"
                ],
                [
                  "10",
                  "Resma carta",
                  "MultiOffice",
                  "1987180",
                  "4580",
                  "5496.0",
                  "7"
                ],
                [
                  "11",
                  "Corrector blanco",
                  "MultiOffice",
                  "1062342",
                  "2565",
                  "3078.0",
                  "80"
                ],
                [
                  "12",
                  "Tijera escolar",
                  "Lappau",
                  "1939778",
                  "2200",
                  "2640.0",
                  "75"
                ],
                [
                  "13",
                  "Destacador amarillo",
                  "Lappau",
                  "1918078",
                  "1320",
                  "1584.0",
                  "124"
                ],
                [
                  "14",
                  "Destacador verde",
                  "Lappau",
                  "1028765",
                  "1320",
                  "1584.0",
                  "21"
                ],
                [
                  "15",
                  "Block notas",
                  "MultiPaper",
                  "1375330",
                  "3128",
                  "3753.6",
                  "42"
                ],
                [
                  "16",
                  "Marcador pizarra azul",
                  "Officia",
                  "1045223",
                  "1530",
                  "1836.0",
                  "131"
                ],
                [
                  "17",
                  "Marcador pizarra negro",
                  "Officia",
                  "1818443",
                  "1530",
                  "1836.0",
                  "154"
                ],
                [
                  "18",
                  "Perforadora",
                  "Officia",
                  "1302786",
                  "6430",
                  "7716.0",
                  "29"
                ],
                [
                  "19",
                  "Clips 100U",
                  "MultiOffice",
                  "1967352",
                  "650",
                  "780.0",
                  "128"
                ],
                [
                  "20",
                  "Clips 1000U",
                  "MultiOffice",
                  "1912077",
                  "5235",
                  "6282.0",
                  "19"
                ],
                [
                  "21",
                  "Borrador",
                  "Officia",
                  "1875869",
                  "6780",
                  "8136.0",
                  "25"
                ],
                [
                  "22",
                  "Barra pegamento",
                  "ArtM",
                  "1898500",
                  "765",
                  "918.0",
                  "52"
                ],
                [
                  "23",
                  "Bol√≠grafo azul",
                  "Lappau",
                  "1039715",
                  "525",
                  "630.0",
                  "168"
                ],
                [
                  "24",
                  "Bol√≠grafo negro",
                  "Lappau",
                  "1590428",
                  "530",
                  "636.0",
                  "142"
                ],
                [
                  "25",
                  "Bol√≠grafo rojo",
                  "Lappau",
                  "1760135",
                  "530",
                  "636.0",
                  "73"
                ]
              ],
              "shape": {
                "columns": 6,
                "rows": 26
              }
            },
            "text/html": [
              "<div>\n",
              "<style scoped>\n",
              "    .dataframe tbody tr th:only-of-type {\n",
              "        vertical-align: middle;\n",
              "    }\n",
              "\n",
              "    .dataframe tbody tr th {\n",
              "        vertical-align: top;\n",
              "    }\n",
              "\n",
              "    .dataframe thead th {\n",
              "        text-align: right;\n",
              "    }\n",
              "</style>\n",
              "<table border=\"1\" class=\"dataframe\">\n",
              "  <thead>\n",
              "    <tr style=\"text-align: right;\">\n",
              "      <th></th>\n",
              "      <th>Producto</th>\n",
              "      <th>Marca</th>\n",
              "      <th>CodigoSKU</th>\n",
              "      <th>Costo</th>\n",
              "      <th>PrecioVenta</th>\n",
              "      <th>Unidades</th>\n",
              "    </tr>\n",
              "  </thead>\n",
              "  <tbody>\n",
              "    <tr>\n",
              "      <th>0</th>\n",
              "      <td>Cuaderno lineas</td>\n",
              "      <td>SVLUS</td>\n",
              "      <td>1003789</td>\n",
              "      <td>1210</td>\n",
              "      <td>1452.0</td>\n",
              "      <td>116</td>\n",
              "    </tr>\n",
              "    <tr>\n",
              "      <th>1</th>\n",
              "      <td>Cuaderno cuadros</td>\n",
              "      <td>SVLUS</td>\n",
              "      <td>1929835</td>\n",
              "      <td>1210</td>\n",
              "      <td>1452.0</td>\n",
              "      <td>165</td>\n",
              "    </tr>\n",
              "    <tr>\n",
              "      <th>2</th>\n",
              "      <td>Lapiz grafito</td>\n",
              "      <td>Lappau</td>\n",
              "      <td>1366925</td>\n",
              "      <td>470</td>\n",
              "      <td>564.0</td>\n",
              "      <td>194</td>\n",
              "    </tr>\n",
              "    <tr>\n",
              "      <th>3</th>\n",
              "      <td>Goma de borrar</td>\n",
              "      <td>Lappau</td>\n",
              "      <td>1461758</td>\n",
              "      <td>285</td>\n",
              "      <td>342.0</td>\n",
              "      <td>131</td>\n",
              "    </tr>\n",
              "    <tr>\n",
              "      <th>4</th>\n",
              "      <td>Corchetera</td>\n",
              "      <td>Officia</td>\n",
              "      <td>1835948</td>\n",
              "      <td>3250</td>\n",
              "      <td>3900.0</td>\n",
              "      <td>190</td>\n",
              "    </tr>\n",
              "    <tr>\n",
              "      <th>5</th>\n",
              "      <td>Pincel fino</td>\n",
              "      <td>ArtM</td>\n",
              "      <td>1992659</td>\n",
              "      <td>990</td>\n",
              "      <td>1188.0</td>\n",
              "      <td>139</td>\n",
              "    </tr>\n",
              "    <tr>\n",
              "      <th>6</th>\n",
              "      <td>Pincel grueso</td>\n",
              "      <td>ArtM</td>\n",
              "      <td>1959137</td>\n",
              "      <td>1100</td>\n",
              "      <td>1320.0</td>\n",
              "      <td>198</td>\n",
              "    </tr>\n",
              "    <tr>\n",
              "      <th>7</th>\n",
              "      <td>Acrilico 6 colores</td>\n",
              "      <td>ArtM</td>\n",
              "      <td>1124149</td>\n",
              "      <td>7320</td>\n",
              "      <td>8784.0</td>\n",
              "      <td>45</td>\n",
              "    </tr>\n",
              "    <tr>\n",
              "      <th>8</th>\n",
              "      <td>Mezclador 6</td>\n",
              "      <td>ArtM</td>\n",
              "      <td>1954385</td>\n",
              "      <td>890</td>\n",
              "      <td>1068.0</td>\n",
              "      <td>138</td>\n",
              "    </tr>\n",
              "    <tr>\n",
              "      <th>9</th>\n",
              "      <td>Toner</td>\n",
              "      <td>TechOf</td>\n",
              "      <td>1301317</td>\n",
              "      <td>15230</td>\n",
              "      <td>18276.0</td>\n",
              "      <td>145</td>\n",
              "    </tr>\n",
              "    <tr>\n",
              "      <th>10</th>\n",
              "      <td>Resma carta</td>\n",
              "      <td>MultiOffice</td>\n",
              "      <td>1987180</td>\n",
              "      <td>4580</td>\n",
              "      <td>5496.0</td>\n",
              "      <td>7</td>\n",
              "    </tr>\n",
              "    <tr>\n",
              "      <th>11</th>\n",
              "      <td>Corrector blanco</td>\n",
              "      <td>MultiOffice</td>\n",
              "      <td>1062342</td>\n",
              "      <td>2565</td>\n",
              "      <td>3078.0</td>\n",
              "      <td>80</td>\n",
              "    </tr>\n",
              "    <tr>\n",
              "      <th>12</th>\n",
              "      <td>Tijera escolar</td>\n",
              "      <td>Lappau</td>\n",
              "      <td>1939778</td>\n",
              "      <td>2200</td>\n",
              "      <td>2640.0</td>\n",
              "      <td>75</td>\n",
              "    </tr>\n",
              "    <tr>\n",
              "      <th>13</th>\n",
              "      <td>Destacador amarillo</td>\n",
              "      <td>Lappau</td>\n",
              "      <td>1918078</td>\n",
              "      <td>1320</td>\n",
              "      <td>1584.0</td>\n",
              "      <td>124</td>\n",
              "    </tr>\n",
              "    <tr>\n",
              "      <th>14</th>\n",
              "      <td>Destacador verde</td>\n",
              "      <td>Lappau</td>\n",
              "      <td>1028765</td>\n",
              "      <td>1320</td>\n",
              "      <td>1584.0</td>\n",
              "      <td>21</td>\n",
              "    </tr>\n",
              "    <tr>\n",
              "      <th>15</th>\n",
              "      <td>Block notas</td>\n",
              "      <td>MultiPaper</td>\n",
              "      <td>1375330</td>\n",
              "      <td>3128</td>\n",
              "      <td>3753.6</td>\n",
              "      <td>42</td>\n",
              "    </tr>\n",
              "    <tr>\n",
              "      <th>16</th>\n",
              "      <td>Marcador pizarra azul</td>\n",
              "      <td>Officia</td>\n",
              "      <td>1045223</td>\n",
              "      <td>1530</td>\n",
              "      <td>1836.0</td>\n",
              "      <td>131</td>\n",
              "    </tr>\n",
              "    <tr>\n",
              "      <th>17</th>\n",
              "      <td>Marcador pizarra negro</td>\n",
              "      <td>Officia</td>\n",
              "      <td>1818443</td>\n",
              "      <td>1530</td>\n",
              "      <td>1836.0</td>\n",
              "      <td>154</td>\n",
              "    </tr>\n",
              "    <tr>\n",
              "      <th>18</th>\n",
              "      <td>Perforadora</td>\n",
              "      <td>Officia</td>\n",
              "      <td>1302786</td>\n",
              "      <td>6430</td>\n",
              "      <td>7716.0</td>\n",
              "      <td>29</td>\n",
              "    </tr>\n",
              "    <tr>\n",
              "      <th>19</th>\n",
              "      <td>Clips 100U</td>\n",
              "      <td>MultiOffice</td>\n",
              "      <td>1967352</td>\n",
              "      <td>650</td>\n",
              "      <td>780.0</td>\n",
              "      <td>128</td>\n",
              "    </tr>\n",
              "    <tr>\n",
              "      <th>20</th>\n",
              "      <td>Clips 1000U</td>\n",
              "      <td>MultiOffice</td>\n",
              "      <td>1912077</td>\n",
              "      <td>5235</td>\n",
              "      <td>6282.0</td>\n",
              "      <td>19</td>\n",
              "    </tr>\n",
              "    <tr>\n",
              "      <th>21</th>\n",
              "      <td>Borrador</td>\n",
              "      <td>Officia</td>\n",
              "      <td>1875869</td>\n",
              "      <td>6780</td>\n",
              "      <td>8136.0</td>\n",
              "      <td>25</td>\n",
              "    </tr>\n",
              "    <tr>\n",
              "      <th>22</th>\n",
              "      <td>Barra pegamento</td>\n",
              "      <td>ArtM</td>\n",
              "      <td>1898500</td>\n",
              "      <td>765</td>\n",
              "      <td>918.0</td>\n",
              "      <td>52</td>\n",
              "    </tr>\n",
              "    <tr>\n",
              "      <th>23</th>\n",
              "      <td>Bol√≠grafo azul</td>\n",
              "      <td>Lappau</td>\n",
              "      <td>1039715</td>\n",
              "      <td>525</td>\n",
              "      <td>630.0</td>\n",
              "      <td>168</td>\n",
              "    </tr>\n",
              "    <tr>\n",
              "      <th>24</th>\n",
              "      <td>Bol√≠grafo negro</td>\n",
              "      <td>Lappau</td>\n",
              "      <td>1590428</td>\n",
              "      <td>530</td>\n",
              "      <td>636.0</td>\n",
              "      <td>142</td>\n",
              "    </tr>\n",
              "    <tr>\n",
              "      <th>25</th>\n",
              "      <td>Bol√≠grafo rojo</td>\n",
              "      <td>Lappau</td>\n",
              "      <td>1760135</td>\n",
              "      <td>530</td>\n",
              "      <td>636.0</td>\n",
              "      <td>73</td>\n",
              "    </tr>\n",
              "  </tbody>\n",
              "</table>\n",
              "</div>"
            ],
            "text/plain": [
              "                  Producto        Marca  CodigoSKU  Costo  PrecioVenta  \\\n",
              "0          Cuaderno lineas        SVLUS    1003789   1210       1452.0   \n",
              "1         Cuaderno cuadros        SVLUS    1929835   1210       1452.0   \n",
              "2            Lapiz grafito       Lappau    1366925    470        564.0   \n",
              "3           Goma de borrar       Lappau    1461758    285        342.0   \n",
              "4               Corchetera      Officia    1835948   3250       3900.0   \n",
              "5              Pincel fino         ArtM    1992659    990       1188.0   \n",
              "6            Pincel grueso         ArtM    1959137   1100       1320.0   \n",
              "7       Acrilico 6 colores         ArtM    1124149   7320       8784.0   \n",
              "8             Mezclador 6          ArtM    1954385    890       1068.0   \n",
              "9                    Toner       TechOf    1301317  15230      18276.0   \n",
              "10             Resma carta  MultiOffice    1987180   4580       5496.0   \n",
              "11        Corrector blanco  MultiOffice    1062342   2565       3078.0   \n",
              "12          Tijera escolar       Lappau    1939778   2200       2640.0   \n",
              "13     Destacador amarillo       Lappau    1918078   1320       1584.0   \n",
              "14        Destacador verde       Lappau    1028765   1320       1584.0   \n",
              "15             Block notas   MultiPaper    1375330   3128       3753.6   \n",
              "16   Marcador pizarra azul      Officia    1045223   1530       1836.0   \n",
              "17  Marcador pizarra negro      Officia    1818443   1530       1836.0   \n",
              "18             Perforadora      Officia    1302786   6430       7716.0   \n",
              "19              Clips 100U  MultiOffice    1967352    650        780.0   \n",
              "20             Clips 1000U  MultiOffice    1912077   5235       6282.0   \n",
              "21                Borrador      Officia    1875869   6780       8136.0   \n",
              "22         Barra pegamento         ArtM    1898500    765        918.0   \n",
              "23         Bol√≠grafo azul       Lappau    1039715    525        630.0   \n",
              "24        Bol√≠grafo negro       Lappau    1590428    530        636.0   \n",
              "25         Bol√≠grafo rojo       Lappau    1760135    530        636.0   \n",
              "\n",
              "    Unidades  \n",
              "0        116  \n",
              "1        165  \n",
              "2        194  \n",
              "3        131  \n",
              "4        190  \n",
              "5        139  \n",
              "6        198  \n",
              "7         45  \n",
              "8        138  \n",
              "9        145  \n",
              "10         7  \n",
              "11        80  \n",
              "12        75  \n",
              "13       124  \n",
              "14        21  \n",
              "15        42  \n",
              "16       131  \n",
              "17       154  \n",
              "18        29  \n",
              "19       128  \n",
              "20        19  \n",
              "21        25  \n",
              "22        52  \n",
              "23       168  \n",
              "24       142  \n",
              "25        73  "
            ]
          },
          "execution_count": 3,
          "metadata": {},
          "output_type": "execute_result"
        }
      ],
      "source": [
        "data_file='https://github.com/paguirre-uc/mds3020_2022/blob/main/semana1/tutorial1_productos.xlsx?raw=true'\n",
        "\n",
        "#alternativa si descargan localmente el archivo de datos:\n",
        "#data_file='tutorial1_productos.xlsx'\n",
        "\n",
        "df=pd.read_excel(data_file,sheet_name='productos',skiprows=2)\n",
        "df"
      ]
    },
    {
      "cell_type": "markdown",
      "metadata": {
        "id": "0qyuaCSmsJMe"
      },
      "source": [
        "### 1.3 Inspección del dataframe.\n",
        "\n",
        "- https://pandas.pydata.org/docs/reference/api/pandas.DataFrame.info.html\n",
        "- https://pandas.pydata.org/docs/reference/api/pandas.DataFrame.columns.html\n",
        "- https://pandas.pydata.org/docs/reference/api/pandas.DataFrame.head.html\n",
        "- https://pandas.pydata.org/docs/reference/api/pandas.DataFrame.tail.html\n",
        "- https://pandas.pydata.org/docs/reference/api/pandas.DataFrame.describe.html\n"
      ]
    },
    {
      "cell_type": "code",
      "execution_count": 4,
      "metadata": {
        "colab": {
          "base_uri": "https://localhost:8080/"
        },
        "id": "dPoS5BCUsJMe",
        "outputId": "55c1ca3c-7589-445b-82ed-45d0f8252554"
      },
      "outputs": [
        {
          "name": "stdout",
          "output_type": "stream",
          "text": [
            "<class 'pandas.core.frame.DataFrame'>\n",
            "RangeIndex: 26 entries, 0 to 25\n",
            "Data columns (total 6 columns):\n",
            " #   Column       Non-Null Count  Dtype  \n",
            "---  ------       --------------  -----  \n",
            " 0   Producto     26 non-null     object \n",
            " 1   Marca        26 non-null     object \n",
            " 2   CodigoSKU    26 non-null     int64  \n",
            " 3   Costo        26 non-null     int64  \n",
            " 4   PrecioVenta  26 non-null     float64\n",
            " 5   Unidades     26 non-null     int64  \n",
            "dtypes: float64(1), int64(3), object(2)\n",
            "memory usage: 1.3+ KB\n"
          ]
        }
      ],
      "source": [
        "df.info()"
      ]
    },
    {
      "cell_type": "code",
      "execution_count": 5,
      "metadata": {
        "colab": {
          "base_uri": "https://localhost:8080/"
        },
        "id": "DimOdxlrsJMg",
        "outputId": "e7468717-c36b-4db2-9c24-0eb19547944e"
      },
      "outputs": [
        {
          "data": {
            "text/plain": [
              "Index(['Producto', 'Marca', 'CodigoSKU', 'Costo', 'PrecioVenta', 'Unidades'], dtype='object')"
            ]
          },
          "execution_count": 5,
          "metadata": {},
          "output_type": "execute_result"
        }
      ],
      "source": [
        "df.columns"
      ]
    },
    {
      "cell_type": "code",
      "execution_count": 6,
      "metadata": {
        "colab": {
          "base_uri": "https://localhost:8080/",
          "height": 363
        },
        "id": "uI0BzzjXsJMh",
        "outputId": "4c6e218a-2643-4caa-8459-e0f3c484bc7f"
      },
      "outputs": [
        {
          "data": {
            "application/vnd.microsoft.datawrangler.viewer.v0+json": {
              "columns": [
                {
                  "name": "index",
                  "rawType": "int64",
                  "type": "integer"
                },
                {
                  "name": "Producto",
                  "rawType": "object",
                  "type": "string"
                },
                {
                  "name": "Marca",
                  "rawType": "object",
                  "type": "string"
                },
                {
                  "name": "CodigoSKU",
                  "rawType": "int64",
                  "type": "integer"
                },
                {
                  "name": "Costo",
                  "rawType": "int64",
                  "type": "integer"
                },
                {
                  "name": "PrecioVenta",
                  "rawType": "float64",
                  "type": "float"
                },
                {
                  "name": "Unidades",
                  "rawType": "int64",
                  "type": "integer"
                }
              ],
              "ref": "2fbd4e2d-9d5d-465d-be72-6f9c16bd4296",
              "rows": [
                [
                  "0",
                  "Cuaderno lineas",
                  "SVLUS",
                  "1003789",
                  "1210",
                  "1452.0",
                  "116"
                ],
                [
                  "1",
                  "Cuaderno cuadros",
                  "SVLUS",
                  "1929835",
                  "1210",
                  "1452.0",
                  "165"
                ],
                [
                  "2",
                  "Lapiz grafito",
                  "Lappau",
                  "1366925",
                  "470",
                  "564.0",
                  "194"
                ],
                [
                  "3",
                  "Goma de borrar",
                  "Lappau",
                  "1461758",
                  "285",
                  "342.0",
                  "131"
                ],
                [
                  "4",
                  "Corchetera",
                  "Officia",
                  "1835948",
                  "3250",
                  "3900.0",
                  "190"
                ],
                [
                  "5",
                  "Pincel fino",
                  "ArtM",
                  "1992659",
                  "990",
                  "1188.0",
                  "139"
                ],
                [
                  "6",
                  "Pincel grueso",
                  "ArtM",
                  "1959137",
                  "1100",
                  "1320.0",
                  "198"
                ],
                [
                  "7",
                  "Acrilico 6 colores",
                  "ArtM",
                  "1124149",
                  "7320",
                  "8784.0",
                  "45"
                ],
                [
                  "8",
                  "Mezclador 6 ",
                  "ArtM",
                  "1954385",
                  "890",
                  "1068.0",
                  "138"
                ],
                [
                  "9",
                  "Toner",
                  "TechOf",
                  "1301317",
                  "15230",
                  "18276.0",
                  "145"
                ]
              ],
              "shape": {
                "columns": 6,
                "rows": 10
              }
            },
            "text/html": [
              "<div>\n",
              "<style scoped>\n",
              "    .dataframe tbody tr th:only-of-type {\n",
              "        vertical-align: middle;\n",
              "    }\n",
              "\n",
              "    .dataframe tbody tr th {\n",
              "        vertical-align: top;\n",
              "    }\n",
              "\n",
              "    .dataframe thead th {\n",
              "        text-align: right;\n",
              "    }\n",
              "</style>\n",
              "<table border=\"1\" class=\"dataframe\">\n",
              "  <thead>\n",
              "    <tr style=\"text-align: right;\">\n",
              "      <th></th>\n",
              "      <th>Producto</th>\n",
              "      <th>Marca</th>\n",
              "      <th>CodigoSKU</th>\n",
              "      <th>Costo</th>\n",
              "      <th>PrecioVenta</th>\n",
              "      <th>Unidades</th>\n",
              "    </tr>\n",
              "  </thead>\n",
              "  <tbody>\n",
              "    <tr>\n",
              "      <th>0</th>\n",
              "      <td>Cuaderno lineas</td>\n",
              "      <td>SVLUS</td>\n",
              "      <td>1003789</td>\n",
              "      <td>1210</td>\n",
              "      <td>1452.0</td>\n",
              "      <td>116</td>\n",
              "    </tr>\n",
              "    <tr>\n",
              "      <th>1</th>\n",
              "      <td>Cuaderno cuadros</td>\n",
              "      <td>SVLUS</td>\n",
              "      <td>1929835</td>\n",
              "      <td>1210</td>\n",
              "      <td>1452.0</td>\n",
              "      <td>165</td>\n",
              "    </tr>\n",
              "    <tr>\n",
              "      <th>2</th>\n",
              "      <td>Lapiz grafito</td>\n",
              "      <td>Lappau</td>\n",
              "      <td>1366925</td>\n",
              "      <td>470</td>\n",
              "      <td>564.0</td>\n",
              "      <td>194</td>\n",
              "    </tr>\n",
              "    <tr>\n",
              "      <th>3</th>\n",
              "      <td>Goma de borrar</td>\n",
              "      <td>Lappau</td>\n",
              "      <td>1461758</td>\n",
              "      <td>285</td>\n",
              "      <td>342.0</td>\n",
              "      <td>131</td>\n",
              "    </tr>\n",
              "    <tr>\n",
              "      <th>4</th>\n",
              "      <td>Corchetera</td>\n",
              "      <td>Officia</td>\n",
              "      <td>1835948</td>\n",
              "      <td>3250</td>\n",
              "      <td>3900.0</td>\n",
              "      <td>190</td>\n",
              "    </tr>\n",
              "    <tr>\n",
              "      <th>5</th>\n",
              "      <td>Pincel fino</td>\n",
              "      <td>ArtM</td>\n",
              "      <td>1992659</td>\n",
              "      <td>990</td>\n",
              "      <td>1188.0</td>\n",
              "      <td>139</td>\n",
              "    </tr>\n",
              "    <tr>\n",
              "      <th>6</th>\n",
              "      <td>Pincel grueso</td>\n",
              "      <td>ArtM</td>\n",
              "      <td>1959137</td>\n",
              "      <td>1100</td>\n",
              "      <td>1320.0</td>\n",
              "      <td>198</td>\n",
              "    </tr>\n",
              "    <tr>\n",
              "      <th>7</th>\n",
              "      <td>Acrilico 6 colores</td>\n",
              "      <td>ArtM</td>\n",
              "      <td>1124149</td>\n",
              "      <td>7320</td>\n",
              "      <td>8784.0</td>\n",
              "      <td>45</td>\n",
              "    </tr>\n",
              "    <tr>\n",
              "      <th>8</th>\n",
              "      <td>Mezclador 6</td>\n",
              "      <td>ArtM</td>\n",
              "      <td>1954385</td>\n",
              "      <td>890</td>\n",
              "      <td>1068.0</td>\n",
              "      <td>138</td>\n",
              "    </tr>\n",
              "    <tr>\n",
              "      <th>9</th>\n",
              "      <td>Toner</td>\n",
              "      <td>TechOf</td>\n",
              "      <td>1301317</td>\n",
              "      <td>15230</td>\n",
              "      <td>18276.0</td>\n",
              "      <td>145</td>\n",
              "    </tr>\n",
              "  </tbody>\n",
              "</table>\n",
              "</div>"
            ],
            "text/plain": [
              "             Producto    Marca  CodigoSKU  Costo  PrecioVenta  Unidades\n",
              "0     Cuaderno lineas    SVLUS    1003789   1210       1452.0       116\n",
              "1    Cuaderno cuadros    SVLUS    1929835   1210       1452.0       165\n",
              "2       Lapiz grafito   Lappau    1366925    470        564.0       194\n",
              "3      Goma de borrar   Lappau    1461758    285        342.0       131\n",
              "4          Corchetera  Officia    1835948   3250       3900.0       190\n",
              "5         Pincel fino     ArtM    1992659    990       1188.0       139\n",
              "6       Pincel grueso     ArtM    1959137   1100       1320.0       198\n",
              "7  Acrilico 6 colores     ArtM    1124149   7320       8784.0        45\n",
              "8        Mezclador 6      ArtM    1954385    890       1068.0       138\n",
              "9               Toner   TechOf    1301317  15230      18276.0       145"
            ]
          },
          "execution_count": 6,
          "metadata": {},
          "output_type": "execute_result"
        }
      ],
      "source": [
        "df.head(10)"
      ]
    },
    {
      "cell_type": "code",
      "execution_count": 7,
      "metadata": {
        "colab": {
          "base_uri": "https://localhost:8080/",
          "height": 143
        },
        "id": "xkTdSmvQsJMi",
        "outputId": "4f3448bc-bcfb-4dac-d28d-82583ce58110"
      },
      "outputs": [
        {
          "data": {
            "application/vnd.microsoft.datawrangler.viewer.v0+json": {
              "columns": [
                {
                  "name": "index",
                  "rawType": "int64",
                  "type": "integer"
                },
                {
                  "name": "Producto",
                  "rawType": "object",
                  "type": "string"
                },
                {
                  "name": "Marca",
                  "rawType": "object",
                  "type": "string"
                },
                {
                  "name": "CodigoSKU",
                  "rawType": "int64",
                  "type": "integer"
                },
                {
                  "name": "Costo",
                  "rawType": "int64",
                  "type": "integer"
                },
                {
                  "name": "PrecioVenta",
                  "rawType": "float64",
                  "type": "float"
                },
                {
                  "name": "Unidades",
                  "rawType": "int64",
                  "type": "integer"
                }
              ],
              "ref": "deca997e-34b6-463e-9b68-cd15c02e6d7b",
              "rows": [
                [
                  "23",
                  "Bol√≠grafo azul",
                  "Lappau",
                  "1039715",
                  "525",
                  "630.0",
                  "168"
                ],
                [
                  "24",
                  "Bol√≠grafo negro",
                  "Lappau",
                  "1590428",
                  "530",
                  "636.0",
                  "142"
                ],
                [
                  "25",
                  "Bol√≠grafo rojo",
                  "Lappau",
                  "1760135",
                  "530",
                  "636.0",
                  "73"
                ]
              ],
              "shape": {
                "columns": 6,
                "rows": 3
              }
            },
            "text/html": [
              "<div>\n",
              "<style scoped>\n",
              "    .dataframe tbody tr th:only-of-type {\n",
              "        vertical-align: middle;\n",
              "    }\n",
              "\n",
              "    .dataframe tbody tr th {\n",
              "        vertical-align: top;\n",
              "    }\n",
              "\n",
              "    .dataframe thead th {\n",
              "        text-align: right;\n",
              "    }\n",
              "</style>\n",
              "<table border=\"1\" class=\"dataframe\">\n",
              "  <thead>\n",
              "    <tr style=\"text-align: right;\">\n",
              "      <th></th>\n",
              "      <th>Producto</th>\n",
              "      <th>Marca</th>\n",
              "      <th>CodigoSKU</th>\n",
              "      <th>Costo</th>\n",
              "      <th>PrecioVenta</th>\n",
              "      <th>Unidades</th>\n",
              "    </tr>\n",
              "  </thead>\n",
              "  <tbody>\n",
              "    <tr>\n",
              "      <th>23</th>\n",
              "      <td>Bol√≠grafo azul</td>\n",
              "      <td>Lappau</td>\n",
              "      <td>1039715</td>\n",
              "      <td>525</td>\n",
              "      <td>630.0</td>\n",
              "      <td>168</td>\n",
              "    </tr>\n",
              "    <tr>\n",
              "      <th>24</th>\n",
              "      <td>Bol√≠grafo negro</td>\n",
              "      <td>Lappau</td>\n",
              "      <td>1590428</td>\n",
              "      <td>530</td>\n",
              "      <td>636.0</td>\n",
              "      <td>142</td>\n",
              "    </tr>\n",
              "    <tr>\n",
              "      <th>25</th>\n",
              "      <td>Bol√≠grafo rojo</td>\n",
              "      <td>Lappau</td>\n",
              "      <td>1760135</td>\n",
              "      <td>530</td>\n",
              "      <td>636.0</td>\n",
              "      <td>73</td>\n",
              "    </tr>\n",
              "  </tbody>\n",
              "</table>\n",
              "</div>"
            ],
            "text/plain": [
              "            Producto   Marca  CodigoSKU  Costo  PrecioVenta  Unidades\n",
              "23   Bol√≠grafo azul  Lappau    1039715    525        630.0       168\n",
              "24  Bol√≠grafo negro  Lappau    1590428    530        636.0       142\n",
              "25   Bol√≠grafo rojo  Lappau    1760135    530        636.0        73"
            ]
          },
          "execution_count": 7,
          "metadata": {},
          "output_type": "execute_result"
        }
      ],
      "source": [
        "df.tail(3)"
      ]
    },
    {
      "cell_type": "code",
      "execution_count": 8,
      "metadata": {
        "colab": {
          "base_uri": "https://localhost:8080/",
          "height": 143
        },
        "id": "yprmVredsJMi",
        "outputId": "fa98b5b5-1f59-401c-f1ed-5fbab119a00c"
      },
      "outputs": [
        {
          "data": {
            "application/vnd.microsoft.datawrangler.viewer.v0+json": {
              "columns": [
                {
                  "name": "index",
                  "rawType": "int64",
                  "type": "integer"
                },
                {
                  "name": "Producto",
                  "rawType": "object",
                  "type": "string"
                },
                {
                  "name": "Marca",
                  "rawType": "object",
                  "type": "string"
                },
                {
                  "name": "CodigoSKU",
                  "rawType": "int64",
                  "type": "integer"
                },
                {
                  "name": "Costo",
                  "rawType": "int64",
                  "type": "integer"
                },
                {
                  "name": "PrecioVenta",
                  "rawType": "float64",
                  "type": "float"
                },
                {
                  "name": "Unidades",
                  "rawType": "int64",
                  "type": "integer"
                }
              ],
              "ref": "c98278cb-4d22-4a36-9cbf-461d5eda9064",
              "rows": [
                [
                  "14",
                  "Destacador verde",
                  "Lappau",
                  "1028765",
                  "1320",
                  "1584.0",
                  "21"
                ],
                [
                  "3",
                  "Goma de borrar",
                  "Lappau",
                  "1461758",
                  "285",
                  "342.0",
                  "131"
                ],
                [
                  "2",
                  "Lapiz grafito",
                  "Lappau",
                  "1366925",
                  "470",
                  "564.0",
                  "194"
                ]
              ],
              "shape": {
                "columns": 6,
                "rows": 3
              }
            },
            "text/html": [
              "<div>\n",
              "<style scoped>\n",
              "    .dataframe tbody tr th:only-of-type {\n",
              "        vertical-align: middle;\n",
              "    }\n",
              "\n",
              "    .dataframe tbody tr th {\n",
              "        vertical-align: top;\n",
              "    }\n",
              "\n",
              "    .dataframe thead th {\n",
              "        text-align: right;\n",
              "    }\n",
              "</style>\n",
              "<table border=\"1\" class=\"dataframe\">\n",
              "  <thead>\n",
              "    <tr style=\"text-align: right;\">\n",
              "      <th></th>\n",
              "      <th>Producto</th>\n",
              "      <th>Marca</th>\n",
              "      <th>CodigoSKU</th>\n",
              "      <th>Costo</th>\n",
              "      <th>PrecioVenta</th>\n",
              "      <th>Unidades</th>\n",
              "    </tr>\n",
              "  </thead>\n",
              "  <tbody>\n",
              "    <tr>\n",
              "      <th>14</th>\n",
              "      <td>Destacador verde</td>\n",
              "      <td>Lappau</td>\n",
              "      <td>1028765</td>\n",
              "      <td>1320</td>\n",
              "      <td>1584.0</td>\n",
              "      <td>21</td>\n",
              "    </tr>\n",
              "    <tr>\n",
              "      <th>3</th>\n",
              "      <td>Goma de borrar</td>\n",
              "      <td>Lappau</td>\n",
              "      <td>1461758</td>\n",
              "      <td>285</td>\n",
              "      <td>342.0</td>\n",
              "      <td>131</td>\n",
              "    </tr>\n",
              "    <tr>\n",
              "      <th>2</th>\n",
              "      <td>Lapiz grafito</td>\n",
              "      <td>Lappau</td>\n",
              "      <td>1366925</td>\n",
              "      <td>470</td>\n",
              "      <td>564.0</td>\n",
              "      <td>194</td>\n",
              "    </tr>\n",
              "  </tbody>\n",
              "</table>\n",
              "</div>"
            ],
            "text/plain": [
              "            Producto   Marca  CodigoSKU  Costo  PrecioVenta  Unidades\n",
              "14  Destacador verde  Lappau    1028765   1320       1584.0        21\n",
              "3     Goma de borrar  Lappau    1461758    285        342.0       131\n",
              "2      Lapiz grafito  Lappau    1366925    470        564.0       194"
            ]
          },
          "execution_count": 8,
          "metadata": {},
          "output_type": "execute_result"
        }
      ],
      "source": [
        "df.sample(3)"
      ]
    },
    {
      "cell_type": "code",
      "execution_count": 9,
      "metadata": {
        "colab": {
          "base_uri": "https://localhost:8080/",
          "height": 300
        },
        "id": "MeK_eRpYsJMj",
        "outputId": "5c599d35-3a58-4389-e215-ea73a0cb98bb"
      },
      "outputs": [
        {
          "data": {
            "application/vnd.microsoft.datawrangler.viewer.v0+json": {
              "columns": [
                {
                  "name": "index",
                  "rawType": "object",
                  "type": "string"
                },
                {
                  "name": "CodigoSKU",
                  "rawType": "float64",
                  "type": "float"
                },
                {
                  "name": "Costo",
                  "rawType": "float64",
                  "type": "float"
                },
                {
                  "name": "PrecioVenta",
                  "rawType": "float64",
                  "type": "float"
                },
                {
                  "name": "Unidades",
                  "rawType": "float64",
                  "type": "float"
                }
              ],
              "ref": "826db344-2400-48b2-b390-cabcb9514eab",
              "rows": [
                [
                  "count",
                  "26.0",
                  "26.0",
                  "26.0",
                  "26.0"
                ],
                [
                  "mean",
                  "1594303.9615384615",
                  "2752.8076923076924",
                  "3303.369230769231",
                  "105.03846153846153"
                ],
                [
                  "std",
                  "375783.9889433802",
                  "3299.660006961091",
                  "3959.5920083533083",
                  "60.16675545131598"
                ],
                [
                  "min",
                  "1003789.0",
                  "285.0",
                  "342.0",
                  "7.0"
                ],
                [
                  "25%",
                  "1301684.25",
                  "796.25",
                  "955.5",
                  "46.75"
                ],
                [
                  "50%",
                  "1789289.0",
                  "1320.0",
                  "1584.0",
                  "126.0"
                ],
                [
                  "75%",
                  "1926895.75",
                  "3219.5",
                  "3863.4",
                  "144.25"
                ],
                [
                  "max",
                  "1992659.0",
                  "15230.0",
                  "18276.0",
                  "198.0"
                ]
              ],
              "shape": {
                "columns": 4,
                "rows": 8
              }
            },
            "text/html": [
              "<div>\n",
              "<style scoped>\n",
              "    .dataframe tbody tr th:only-of-type {\n",
              "        vertical-align: middle;\n",
              "    }\n",
              "\n",
              "    .dataframe tbody tr th {\n",
              "        vertical-align: top;\n",
              "    }\n",
              "\n",
              "    .dataframe thead th {\n",
              "        text-align: right;\n",
              "    }\n",
              "</style>\n",
              "<table border=\"1\" class=\"dataframe\">\n",
              "  <thead>\n",
              "    <tr style=\"text-align: right;\">\n",
              "      <th></th>\n",
              "      <th>CodigoSKU</th>\n",
              "      <th>Costo</th>\n",
              "      <th>PrecioVenta</th>\n",
              "      <th>Unidades</th>\n",
              "    </tr>\n",
              "  </thead>\n",
              "  <tbody>\n",
              "    <tr>\n",
              "      <th>count</th>\n",
              "      <td>2.600000e+01</td>\n",
              "      <td>26.000000</td>\n",
              "      <td>26.000000</td>\n",
              "      <td>26.000000</td>\n",
              "    </tr>\n",
              "    <tr>\n",
              "      <th>mean</th>\n",
              "      <td>1.594304e+06</td>\n",
              "      <td>2752.807692</td>\n",
              "      <td>3303.369231</td>\n",
              "      <td>105.038462</td>\n",
              "    </tr>\n",
              "    <tr>\n",
              "      <th>std</th>\n",
              "      <td>3.757840e+05</td>\n",
              "      <td>3299.660007</td>\n",
              "      <td>3959.592008</td>\n",
              "      <td>60.166755</td>\n",
              "    </tr>\n",
              "    <tr>\n",
              "      <th>min</th>\n",
              "      <td>1.003789e+06</td>\n",
              "      <td>285.000000</td>\n",
              "      <td>342.000000</td>\n",
              "      <td>7.000000</td>\n",
              "    </tr>\n",
              "    <tr>\n",
              "      <th>25%</th>\n",
              "      <td>1.301684e+06</td>\n",
              "      <td>796.250000</td>\n",
              "      <td>955.500000</td>\n",
              "      <td>46.750000</td>\n",
              "    </tr>\n",
              "    <tr>\n",
              "      <th>50%</th>\n",
              "      <td>1.789289e+06</td>\n",
              "      <td>1320.000000</td>\n",
              "      <td>1584.000000</td>\n",
              "      <td>126.000000</td>\n",
              "    </tr>\n",
              "    <tr>\n",
              "      <th>75%</th>\n",
              "      <td>1.926896e+06</td>\n",
              "      <td>3219.500000</td>\n",
              "      <td>3863.400000</td>\n",
              "      <td>144.250000</td>\n",
              "    </tr>\n",
              "    <tr>\n",
              "      <th>max</th>\n",
              "      <td>1.992659e+06</td>\n",
              "      <td>15230.000000</td>\n",
              "      <td>18276.000000</td>\n",
              "      <td>198.000000</td>\n",
              "    </tr>\n",
              "  </tbody>\n",
              "</table>\n",
              "</div>"
            ],
            "text/plain": [
              "          CodigoSKU         Costo   PrecioVenta    Unidades\n",
              "count  2.600000e+01     26.000000     26.000000   26.000000\n",
              "mean   1.594304e+06   2752.807692   3303.369231  105.038462\n",
              "std    3.757840e+05   3299.660007   3959.592008   60.166755\n",
              "min    1.003789e+06    285.000000    342.000000    7.000000\n",
              "25%    1.301684e+06    796.250000    955.500000   46.750000\n",
              "50%    1.789289e+06   1320.000000   1584.000000  126.000000\n",
              "75%    1.926896e+06   3219.500000   3863.400000  144.250000\n",
              "max    1.992659e+06  15230.000000  18276.000000  198.000000"
            ]
          },
          "execution_count": 9,
          "metadata": {},
          "output_type": "execute_result"
        }
      ],
      "source": [
        "df.describe()"
      ]
    },
    {
      "cell_type": "markdown",
      "metadata": {
        "id": "01VWCgkssJMk"
      },
      "source": [
        "## 2. Importación e inspección de datos semi-estructurados.\n"
      ]
    },
    {
      "cell_type": "markdown",
      "metadata": {
        "id": "oHPyaLa1sJMk"
      },
      "source": [
        "### 2.1 Importación de datos en formato JSON.\n",
        "\n",
        "A continuación veremos algunos ejemplos de lectura y manejo de datos en formato JSON.\n",
        "\n",
        "En primer lugar, supongamos que además de la lista de productos de una tienda de artículos de librería, tenemos otro conjunto de datos relativos a los locales de la cadena de tiendas, en formato JSON:"
      ]
    },
    {
      "cell_type": "code",
      "execution_count": 10,
      "metadata": {
        "id": "EzDnHgEasmbg"
      },
      "outputs": [],
      "source": [
        "import json\n",
        "import requests\n",
        "# Pueden descargar desde github el archivo directamente con la url.\n",
        "url = \"https://raw.githubusercontent.com/paguirre-uc/mds3020_2022/main/semana1/tutorial1_locales.json\"\n",
        "\n",
        "response = requests.get(url)  \n",
        "json_locales = response.json()  \n"
      ]
    },
    {
      "cell_type": "code",
      "execution_count": 11,
      "metadata": {
        "id": "rfuyChifsJMl"
      },
      "outputs": [],
      "source": [
        "# También pueden descargar el archivo desde github y, leerlo directamente desde su computador. \n",
        "#json_locales=json.load(open('tutorial1_locales.json','r'))\n",
        "#json_locales"
      ]
    },
    {
      "cell_type": "markdown",
      "metadata": {
        "id": "MaEjcnFksJMl"
      },
      "source": [
        "#### En pandas, podemos crear un dataframe directamente a partir de un objeto tipo JSON, que es equivalente a un diccionario de Python:"
      ]
    },
    {
      "cell_type": "code",
      "execution_count": 12,
      "metadata": {
        "colab": {
          "base_uri": "https://localhost:8080/",
          "height": 112
        },
        "id": "fqJ4_78lsJMm",
        "outputId": "7a237df9-3d88-4731-b873-c7163a850125"
      },
      "outputs": [
        {
          "data": {
            "application/vnd.microsoft.datawrangler.viewer.v0+json": {
              "columns": [
                {
                  "name": "index",
                  "rawType": "int64",
                  "type": "integer"
                },
                {
                  "name": "local",
                  "rawType": "object",
                  "type": "string"
                },
                {
                  "name": "vendedores",
                  "rawType": "int64",
                  "type": "integer"
                },
                {
                  "name": "info_local",
                  "rawType": "object",
                  "type": "unknown"
                },
                {
                  "name": "clientes",
                  "rawType": "object",
                  "type": "unknown"
                },
                {
                  "name": "encargados",
                  "rawType": "object",
                  "type": "unknown"
                }
              ],
              "ref": "ae5c4198-0433-43f9-aa6a-5315fc1ca72d",
              "rows": [
                [
                  "0",
                  "Colina",
                  "20",
                  "{'direccion': 'Las Condes 435', 'telefono': '5698727564'}",
                  "[{'nombre': 'Luis', 'apellido': 'Perez', 'mail': 'luisperez@mail.com', 'comprasMes': 178540, 'productos': {'Cuaderno cuadros': 18}}, {'nombre': 'Victoria', 'apellido': 'Solar', 'mail': 'vsolar@mail.com', 'comprasMes': 237549, 'productos': {'Cuaderno cuadros': 5, 'Lapiz grafito': 10, 'Goma de borrar': 8}, 'telefono': '56962899045'}]",
                  "{'gerente': 'Luis Perez', 'ventas': 'Mario Gonzalez', 'operaciones': 'Paz Blanco'}"
                ],
                [
                  "1",
                  "Cisterna",
                  "10",
                  "{'direccion': 'Las Gaviotas 872', 'telefono': '5698727564'}",
                  "[{'nombre': 'Pedro', 'apellido': 'Sanchez', 'mail': 'psanchez@mail.com', 'comprasMes': 654, 'productos': {'Impresora': 2, 'Lapiz grafito': 25}}, {'nombre': 'Luciana', 'apellido': 'Ramirez', 'mail': 'luciram@mail.com', 'productos': {'Cuaderno cuadros': 32, 'Goma de borrar': 9}, 'telefono': '5687763925'}]",
                  "{'gerente': 'Marta Vasquez', 'ventas': 'Sandra Carrasco', 'operaciones': 'Marcial Santos'}"
                ]
              ],
              "shape": {
                "columns": 5,
                "rows": 2
              }
            },
            "text/html": [
              "<div>\n",
              "<style scoped>\n",
              "    .dataframe tbody tr th:only-of-type {\n",
              "        vertical-align: middle;\n",
              "    }\n",
              "\n",
              "    .dataframe tbody tr th {\n",
              "        vertical-align: top;\n",
              "    }\n",
              "\n",
              "    .dataframe thead th {\n",
              "        text-align: right;\n",
              "    }\n",
              "</style>\n",
              "<table border=\"1\" class=\"dataframe\">\n",
              "  <thead>\n",
              "    <tr style=\"text-align: right;\">\n",
              "      <th></th>\n",
              "      <th>local</th>\n",
              "      <th>vendedores</th>\n",
              "      <th>info_local</th>\n",
              "      <th>clientes</th>\n",
              "      <th>encargados</th>\n",
              "    </tr>\n",
              "  </thead>\n",
              "  <tbody>\n",
              "    <tr>\n",
              "      <th>0</th>\n",
              "      <td>Colina</td>\n",
              "      <td>20</td>\n",
              "      <td>{'direccion': 'Las Condes 435', 'telefono': '5...</td>\n",
              "      <td>[{'nombre': 'Luis', 'apellido': 'Perez', 'mail...</td>\n",
              "      <td>{'gerente': 'Luis Perez', 'ventas': 'Mario Gon...</td>\n",
              "    </tr>\n",
              "    <tr>\n",
              "      <th>1</th>\n",
              "      <td>Cisterna</td>\n",
              "      <td>10</td>\n",
              "      <td>{'direccion': 'Las Gaviotas 872', 'telefono': ...</td>\n",
              "      <td>[{'nombre': 'Pedro', 'apellido': 'Sanchez', 'm...</td>\n",
              "      <td>{'gerente': 'Marta Vasquez', 'ventas': 'Sandra...</td>\n",
              "    </tr>\n",
              "  </tbody>\n",
              "</table>\n",
              "</div>"
            ],
            "text/plain": [
              "      local  vendedores                                         info_local  \\\n",
              "0    Colina          20  {'direccion': 'Las Condes 435', 'telefono': '5...   \n",
              "1  Cisterna          10  {'direccion': 'Las Gaviotas 872', 'telefono': ...   \n",
              "\n",
              "                                            clientes  \\\n",
              "0  [{'nombre': 'Luis', 'apellido': 'Perez', 'mail...   \n",
              "1  [{'nombre': 'Pedro', 'apellido': 'Sanchez', 'm...   \n",
              "\n",
              "                                          encargados  \n",
              "0  {'gerente': 'Luis Perez', 'ventas': 'Mario Gon...  \n",
              "1  {'gerente': 'Marta Vasquez', 'ventas': 'Sandra...  "
            ]
          },
          "execution_count": 12,
          "metadata": {},
          "output_type": "execute_result"
        }
      ],
      "source": [
        "df=pd.DataFrame(json_locales)\n",
        "df"
      ]
    },
    {
      "cell_type": "markdown",
      "metadata": {
        "id": "FYlqqrLAsJMn"
      },
      "source": [
        "### 2.2 Normalización de objetos JSON."
      ]
    },
    {
      "cell_type": "markdown",
      "metadata": {
        "id": "KqdYrAhVsJMn"
      },
      "source": [
        "Una característica del formato JSON es que puede ser anidado: el valor de un atributo pueder ser un nuevo diccionario, o una lista de diccionarios. Este tipo de datos anidados es más conveniente de utilizar en formato \"aplanado\" o \"flattened\", de manera que pueda ser almacenado en un data frame. La librería `pandas` tiene una función `json_normalize()` que hace exactamente esto:\n",
        "\n",
        "\n",
        "https://pandas.pydata.org/docs/reference/api/pandas.json_normalize.html\n"
      ]
    },
    {
      "cell_type": "code",
      "execution_count": 13,
      "metadata": {
        "id": "FUlckEZdsJMo"
      },
      "outputs": [
        {
          "data": {
            "application/vnd.microsoft.datawrangler.viewer.v0+json": {
              "columns": [
                {
                  "name": "index",
                  "rawType": "int64",
                  "type": "integer"
                },
                {
                  "name": "local",
                  "rawType": "object",
                  "type": "string"
                },
                {
                  "name": "vendedores",
                  "rawType": "int64",
                  "type": "integer"
                },
                {
                  "name": "clientes",
                  "rawType": "object",
                  "type": "unknown"
                },
                {
                  "name": "info_local.direccion",
                  "rawType": "object",
                  "type": "string"
                },
                {
                  "name": "info_local.telefono",
                  "rawType": "object",
                  "type": "string"
                },
                {
                  "name": "encargados.gerente",
                  "rawType": "object",
                  "type": "string"
                },
                {
                  "name": "encargados.ventas",
                  "rawType": "object",
                  "type": "string"
                },
                {
                  "name": "encargados.operaciones",
                  "rawType": "object",
                  "type": "string"
                }
              ],
              "ref": "7009255c-6f4a-4488-b4ce-81772a63d021",
              "rows": [
                [
                  "0",
                  "Colina",
                  "20",
                  "[{'nombre': 'Luis', 'apellido': 'Perez', 'mail': 'luisperez@mail.com', 'comprasMes': 178540, 'productos': {'Cuaderno cuadros': 18}}, {'nombre': 'Victoria', 'apellido': 'Solar', 'mail': 'vsolar@mail.com', 'comprasMes': 237549, 'productos': {'Cuaderno cuadros': 5, 'Lapiz grafito': 10, 'Goma de borrar': 8}, 'telefono': '56962899045'}]",
                  "Las Condes 435",
                  "5698727564",
                  "Luis Perez",
                  "Mario Gonzalez",
                  "Paz Blanco"
                ],
                [
                  "1",
                  "Cisterna",
                  "10",
                  "[{'nombre': 'Pedro', 'apellido': 'Sanchez', 'mail': 'psanchez@mail.com', 'comprasMes': 654, 'productos': {'Impresora': 2, 'Lapiz grafito': 25}}, {'nombre': 'Luciana', 'apellido': 'Ramirez', 'mail': 'luciram@mail.com', 'productos': {'Cuaderno cuadros': 32, 'Goma de borrar': 9}, 'telefono': '5687763925'}]",
                  "Las Gaviotas 872",
                  "5698727564",
                  "Marta Vasquez",
                  "Sandra Carrasco",
                  "Marcial Santos"
                ]
              ],
              "shape": {
                "columns": 8,
                "rows": 2
              }
            },
            "text/html": [
              "<div>\n",
              "<style scoped>\n",
              "    .dataframe tbody tr th:only-of-type {\n",
              "        vertical-align: middle;\n",
              "    }\n",
              "\n",
              "    .dataframe tbody tr th {\n",
              "        vertical-align: top;\n",
              "    }\n",
              "\n",
              "    .dataframe thead th {\n",
              "        text-align: right;\n",
              "    }\n",
              "</style>\n",
              "<table border=\"1\" class=\"dataframe\">\n",
              "  <thead>\n",
              "    <tr style=\"text-align: right;\">\n",
              "      <th></th>\n",
              "      <th>local</th>\n",
              "      <th>vendedores</th>\n",
              "      <th>clientes</th>\n",
              "      <th>info_local.direccion</th>\n",
              "      <th>info_local.telefono</th>\n",
              "      <th>encargados.gerente</th>\n",
              "      <th>encargados.ventas</th>\n",
              "      <th>encargados.operaciones</th>\n",
              "    </tr>\n",
              "  </thead>\n",
              "  <tbody>\n",
              "    <tr>\n",
              "      <th>0</th>\n",
              "      <td>Colina</td>\n",
              "      <td>20</td>\n",
              "      <td>[{'nombre': 'Luis', 'apellido': 'Perez', 'mail...</td>\n",
              "      <td>Las Condes 435</td>\n",
              "      <td>5698727564</td>\n",
              "      <td>Luis Perez</td>\n",
              "      <td>Mario Gonzalez</td>\n",
              "      <td>Paz Blanco</td>\n",
              "    </tr>\n",
              "    <tr>\n",
              "      <th>1</th>\n",
              "      <td>Cisterna</td>\n",
              "      <td>10</td>\n",
              "      <td>[{'nombre': 'Pedro', 'apellido': 'Sanchez', 'm...</td>\n",
              "      <td>Las Gaviotas 872</td>\n",
              "      <td>5698727564</td>\n",
              "      <td>Marta Vasquez</td>\n",
              "      <td>Sandra Carrasco</td>\n",
              "      <td>Marcial Santos</td>\n",
              "    </tr>\n",
              "  </tbody>\n",
              "</table>\n",
              "</div>"
            ],
            "text/plain": [
              "      local  vendedores                                           clientes  \\\n",
              "0    Colina          20  [{'nombre': 'Luis', 'apellido': 'Perez', 'mail...   \n",
              "1  Cisterna          10  [{'nombre': 'Pedro', 'apellido': 'Sanchez', 'm...   \n",
              "\n",
              "  info_local.direccion info_local.telefono encargados.gerente  \\\n",
              "0       Las Condes 435          5698727564         Luis Perez   \n",
              "1     Las Gaviotas 872          5698727564      Marta Vasquez   \n",
              "\n",
              "  encargados.ventas encargados.operaciones  \n",
              "0    Mario Gonzalez             Paz Blanco  \n",
              "1   Sandra Carrasco         Marcial Santos  "
            ]
          },
          "execution_count": 13,
          "metadata": {},
          "output_type": "execute_result"
        }
      ],
      "source": [
        "pd.json_normalize(json_locales)"
      ]
    },
    {
      "cell_type": "code",
      "execution_count": 14,
      "metadata": {
        "id": "sfSyBsCMsJMo"
      },
      "outputs": [
        {
          "data": {
            "application/vnd.microsoft.datawrangler.viewer.v0+json": {
              "columns": [
                {
                  "name": "index",
                  "rawType": "int64",
                  "type": "integer"
                },
                {
                  "name": "nombre",
                  "rawType": "object",
                  "type": "string"
                },
                {
                  "name": "apellido",
                  "rawType": "object",
                  "type": "string"
                },
                {
                  "name": "mail",
                  "rawType": "object",
                  "type": "string"
                },
                {
                  "name": "comprasMes",
                  "rawType": "float64",
                  "type": "float"
                },
                {
                  "name": "productos.Cuaderno cuadros",
                  "rawType": "float64",
                  "type": "float"
                },
                {
                  "name": "telefono",
                  "rawType": "object",
                  "type": "unknown"
                },
                {
                  "name": "productos.Lapiz grafito",
                  "rawType": "float64",
                  "type": "float"
                },
                {
                  "name": "productos.Goma de borrar",
                  "rawType": "float64",
                  "type": "float"
                },
                {
                  "name": "productos.Impresora",
                  "rawType": "float64",
                  "type": "float"
                }
              ],
              "ref": "3f708fa8-2f83-41e5-aaa3-740cd8e62988",
              "rows": [
                [
                  "0",
                  "Luis",
                  "Perez",
                  "luisperez@mail.com",
                  "178540.0",
                  "18.0",
                  null,
                  null,
                  null,
                  null
                ],
                [
                  "1",
                  "Victoria",
                  "Solar",
                  "vsolar@mail.com",
                  "237549.0",
                  "5.0",
                  "56962899045",
                  "10.0",
                  "8.0",
                  null
                ],
                [
                  "2",
                  "Pedro",
                  "Sanchez",
                  "psanchez@mail.com",
                  "654.0",
                  null,
                  null,
                  "25.0",
                  null,
                  "2.0"
                ],
                [
                  "3",
                  "Luciana",
                  "Ramirez",
                  "luciram@mail.com",
                  null,
                  "32.0",
                  "5687763925",
                  null,
                  "9.0",
                  null
                ]
              ],
              "shape": {
                "columns": 9,
                "rows": 4
              }
            },
            "text/html": [
              "<div>\n",
              "<style scoped>\n",
              "    .dataframe tbody tr th:only-of-type {\n",
              "        vertical-align: middle;\n",
              "    }\n",
              "\n",
              "    .dataframe tbody tr th {\n",
              "        vertical-align: top;\n",
              "    }\n",
              "\n",
              "    .dataframe thead th {\n",
              "        text-align: right;\n",
              "    }\n",
              "</style>\n",
              "<table border=\"1\" class=\"dataframe\">\n",
              "  <thead>\n",
              "    <tr style=\"text-align: right;\">\n",
              "      <th></th>\n",
              "      <th>nombre</th>\n",
              "      <th>apellido</th>\n",
              "      <th>mail</th>\n",
              "      <th>comprasMes</th>\n",
              "      <th>productos.Cuaderno cuadros</th>\n",
              "      <th>telefono</th>\n",
              "      <th>productos.Lapiz grafito</th>\n",
              "      <th>productos.Goma de borrar</th>\n",
              "      <th>productos.Impresora</th>\n",
              "    </tr>\n",
              "  </thead>\n",
              "  <tbody>\n",
              "    <tr>\n",
              "      <th>0</th>\n",
              "      <td>Luis</td>\n",
              "      <td>Perez</td>\n",
              "      <td>luisperez@mail.com</td>\n",
              "      <td>178540.0</td>\n",
              "      <td>18.0</td>\n",
              "      <td>NaN</td>\n",
              "      <td>NaN</td>\n",
              "      <td>NaN</td>\n",
              "      <td>NaN</td>\n",
              "    </tr>\n",
              "    <tr>\n",
              "      <th>1</th>\n",
              "      <td>Victoria</td>\n",
              "      <td>Solar</td>\n",
              "      <td>vsolar@mail.com</td>\n",
              "      <td>237549.0</td>\n",
              "      <td>5.0</td>\n",
              "      <td>56962899045</td>\n",
              "      <td>10.0</td>\n",
              "      <td>8.0</td>\n",
              "      <td>NaN</td>\n",
              "    </tr>\n",
              "    <tr>\n",
              "      <th>2</th>\n",
              "      <td>Pedro</td>\n",
              "      <td>Sanchez</td>\n",
              "      <td>psanchez@mail.com</td>\n",
              "      <td>654.0</td>\n",
              "      <td>NaN</td>\n",
              "      <td>NaN</td>\n",
              "      <td>25.0</td>\n",
              "      <td>NaN</td>\n",
              "      <td>2.0</td>\n",
              "    </tr>\n",
              "    <tr>\n",
              "      <th>3</th>\n",
              "      <td>Luciana</td>\n",
              "      <td>Ramirez</td>\n",
              "      <td>luciram@mail.com</td>\n",
              "      <td>NaN</td>\n",
              "      <td>32.0</td>\n",
              "      <td>5687763925</td>\n",
              "      <td>NaN</td>\n",
              "      <td>9.0</td>\n",
              "      <td>NaN</td>\n",
              "    </tr>\n",
              "  </tbody>\n",
              "</table>\n",
              "</div>"
            ],
            "text/plain": [
              "     nombre apellido                mail  comprasMes  \\\n",
              "0      Luis    Perez  luisperez@mail.com    178540.0   \n",
              "1  Victoria    Solar     vsolar@mail.com    237549.0   \n",
              "2     Pedro  Sanchez   psanchez@mail.com       654.0   \n",
              "3   Luciana  Ramirez    luciram@mail.com         NaN   \n",
              "\n",
              "   productos.Cuaderno cuadros     telefono  productos.Lapiz grafito  \\\n",
              "0                        18.0          NaN                      NaN   \n",
              "1                         5.0  56962899045                     10.0   \n",
              "2                         NaN          NaN                     25.0   \n",
              "3                        32.0   5687763925                      NaN   \n",
              "\n",
              "   productos.Goma de borrar  productos.Impresora  \n",
              "0                       NaN                  NaN  \n",
              "1                       8.0                  NaN  \n",
              "2                       NaN                  2.0  \n",
              "3                       9.0                  NaN  "
            ]
          },
          "execution_count": 14,
          "metadata": {},
          "output_type": "execute_result"
        }
      ],
      "source": [
        "pd.json_normalize(json_locales,record_path='clientes')"
      ]
    },
    {
      "cell_type": "code",
      "execution_count": 15,
      "metadata": {
        "colab": {
          "base_uri": "https://localhost:8080/",
          "height": 175
        },
        "id": "9axXAe5RsJMp",
        "outputId": "904938c5-d79c-4ba6-8020-d0c59bb8f856"
      },
      "outputs": [
        {
          "data": {
            "application/vnd.microsoft.datawrangler.viewer.v0+json": {
              "columns": [
                {
                  "name": "index",
                  "rawType": "int64",
                  "type": "integer"
                },
                {
                  "name": "nombre",
                  "rawType": "object",
                  "type": "string"
                },
                {
                  "name": "apellido",
                  "rawType": "object",
                  "type": "string"
                },
                {
                  "name": "mail",
                  "rawType": "object",
                  "type": "string"
                },
                {
                  "name": "comprasMes",
                  "rawType": "float64",
                  "type": "float"
                },
                {
                  "name": "productos.Cuaderno cuadros",
                  "rawType": "float64",
                  "type": "float"
                },
                {
                  "name": "telefono",
                  "rawType": "object",
                  "type": "unknown"
                },
                {
                  "name": "productos.Lapiz grafito",
                  "rawType": "float64",
                  "type": "float"
                },
                {
                  "name": "productos.Goma de borrar",
                  "rawType": "float64",
                  "type": "float"
                },
                {
                  "name": "productos.Impresora",
                  "rawType": "float64",
                  "type": "float"
                },
                {
                  "name": "local",
                  "rawType": "object",
                  "type": "string"
                }
              ],
              "ref": "045472e9-a46b-4e95-833d-fbe5c6eb346a",
              "rows": [
                [
                  "0",
                  "Luis",
                  "Perez",
                  "luisperez@mail.com",
                  "178540.0",
                  "18.0",
                  null,
                  null,
                  null,
                  null,
                  "Colina"
                ],
                [
                  "1",
                  "Victoria",
                  "Solar",
                  "vsolar@mail.com",
                  "237549.0",
                  "5.0",
                  "56962899045",
                  "10.0",
                  "8.0",
                  null,
                  "Colina"
                ],
                [
                  "2",
                  "Pedro",
                  "Sanchez",
                  "psanchez@mail.com",
                  "654.0",
                  null,
                  null,
                  "25.0",
                  null,
                  "2.0",
                  "Cisterna"
                ],
                [
                  "3",
                  "Luciana",
                  "Ramirez",
                  "luciram@mail.com",
                  null,
                  "32.0",
                  "5687763925",
                  null,
                  "9.0",
                  null,
                  "Cisterna"
                ]
              ],
              "shape": {
                "columns": 10,
                "rows": 4
              }
            },
            "text/html": [
              "<div>\n",
              "<style scoped>\n",
              "    .dataframe tbody tr th:only-of-type {\n",
              "        vertical-align: middle;\n",
              "    }\n",
              "\n",
              "    .dataframe tbody tr th {\n",
              "        vertical-align: top;\n",
              "    }\n",
              "\n",
              "    .dataframe thead th {\n",
              "        text-align: right;\n",
              "    }\n",
              "</style>\n",
              "<table border=\"1\" class=\"dataframe\">\n",
              "  <thead>\n",
              "    <tr style=\"text-align: right;\">\n",
              "      <th></th>\n",
              "      <th>nombre</th>\n",
              "      <th>apellido</th>\n",
              "      <th>mail</th>\n",
              "      <th>comprasMes</th>\n",
              "      <th>productos.Cuaderno cuadros</th>\n",
              "      <th>telefono</th>\n",
              "      <th>productos.Lapiz grafito</th>\n",
              "      <th>productos.Goma de borrar</th>\n",
              "      <th>productos.Impresora</th>\n",
              "      <th>local</th>\n",
              "    </tr>\n",
              "  </thead>\n",
              "  <tbody>\n",
              "    <tr>\n",
              "      <th>0</th>\n",
              "      <td>Luis</td>\n",
              "      <td>Perez</td>\n",
              "      <td>luisperez@mail.com</td>\n",
              "      <td>178540.0</td>\n",
              "      <td>18.0</td>\n",
              "      <td>NaN</td>\n",
              "      <td>NaN</td>\n",
              "      <td>NaN</td>\n",
              "      <td>NaN</td>\n",
              "      <td>Colina</td>\n",
              "    </tr>\n",
              "    <tr>\n",
              "      <th>1</th>\n",
              "      <td>Victoria</td>\n",
              "      <td>Solar</td>\n",
              "      <td>vsolar@mail.com</td>\n",
              "      <td>237549.0</td>\n",
              "      <td>5.0</td>\n",
              "      <td>56962899045</td>\n",
              "      <td>10.0</td>\n",
              "      <td>8.0</td>\n",
              "      <td>NaN</td>\n",
              "      <td>Colina</td>\n",
              "    </tr>\n",
              "    <tr>\n",
              "      <th>2</th>\n",
              "      <td>Pedro</td>\n",
              "      <td>Sanchez</td>\n",
              "      <td>psanchez@mail.com</td>\n",
              "      <td>654.0</td>\n",
              "      <td>NaN</td>\n",
              "      <td>NaN</td>\n",
              "      <td>25.0</td>\n",
              "      <td>NaN</td>\n",
              "      <td>2.0</td>\n",
              "      <td>Cisterna</td>\n",
              "    </tr>\n",
              "    <tr>\n",
              "      <th>3</th>\n",
              "      <td>Luciana</td>\n",
              "      <td>Ramirez</td>\n",
              "      <td>luciram@mail.com</td>\n",
              "      <td>NaN</td>\n",
              "      <td>32.0</td>\n",
              "      <td>5687763925</td>\n",
              "      <td>NaN</td>\n",
              "      <td>9.0</td>\n",
              "      <td>NaN</td>\n",
              "      <td>Cisterna</td>\n",
              "    </tr>\n",
              "  </tbody>\n",
              "</table>\n",
              "</div>"
            ],
            "text/plain": [
              "     nombre apellido                mail  comprasMes  \\\n",
              "0      Luis    Perez  luisperez@mail.com    178540.0   \n",
              "1  Victoria    Solar     vsolar@mail.com    237549.0   \n",
              "2     Pedro  Sanchez   psanchez@mail.com       654.0   \n",
              "3   Luciana  Ramirez    luciram@mail.com         NaN   \n",
              "\n",
              "   productos.Cuaderno cuadros     telefono  productos.Lapiz grafito  \\\n",
              "0                        18.0          NaN                      NaN   \n",
              "1                         5.0  56962899045                     10.0   \n",
              "2                         NaN          NaN                     25.0   \n",
              "3                        32.0   5687763925                      NaN   \n",
              "\n",
              "   productos.Goma de borrar  productos.Impresora     local  \n",
              "0                       NaN                  NaN    Colina  \n",
              "1                       8.0                  NaN    Colina  \n",
              "2                       NaN                  2.0  Cisterna  \n",
              "3                       9.0                  NaN  Cisterna  "
            ]
          },
          "execution_count": 15,
          "metadata": {},
          "output_type": "execute_result"
        }
      ],
      "source": [
        "df=pd.json_normalize(json_locales,record_path='clientes',meta=['local'])\n",
        "df"
      ]
    },
    {
      "cell_type": "markdown",
      "metadata": {
        "id": "bhJOMT-asJMp"
      },
      "source": [
        "### 2.3 Escritura de archivos en formato JSON.\n",
        "\n",
        "Los datos en formato JSON pueden leerse desde un archivo de texto plano, o también es posible exportar un dataframe a un archivo en formato JSON."
      ]
    },
    {
      "cell_type": "code",
      "execution_count": 16,
      "metadata": {},
      "outputs": [
        {
          "name": "stdout",
          "output_type": "stream",
          "text": [
            "/Users/jasonssdev/Dev/Learning/UC/mcd-data-science-intro\n"
          ]
        }
      ],
      "source": [
        "!pwd"
      ]
    },
    {
      "cell_type": "code",
      "execution_count": 18,
      "metadata": {},
      "outputs": [
        {
          "data": {
            "text/plain": [
              "'/Users/jasonssdev/Dev/Learning/UC/mcd-data-science-intro/data/processed/clientes_out.json'"
            ]
          },
          "execution_count": 18,
          "metadata": {},
          "output_type": "execute_result"
        }
      ],
      "source": [
        "from utils.paths import DATA_PROCESSED_DIR\n",
        "\n",
        "export_data_path = str(DATA_PROCESSED_DIR / 'clientes_out.json')\n",
        "export_data_path"
      ]
    },
    {
      "cell_type": "code",
      "execution_count": 19,
      "metadata": {
        "id": "S-i8QtxssJMq"
      },
      "outputs": [],
      "source": [
        "df.to_json(export_data_path)"
      ]
    },
    {
      "cell_type": "code",
      "execution_count": null,
      "metadata": {},
      "outputs": [],
      "source": []
    }
  ],
  "metadata": {
    "anaconda-cloud": {},
    "colab": {
      "provenance": []
    },
    "kernelspec": {
      "display_name": "mcd-da-py312",
      "language": "python",
      "name": "python3"
    },
    "language_info": {
      "codemirror_mode": {
        "name": "ipython",
        "version": 3
      },
      "file_extension": ".py",
      "mimetype": "text/x-python",
      "name": "python",
      "nbconvert_exporter": "python",
      "pygments_lexer": "ipython3",
      "version": "3.12.9"
    }
  },
  "nbformat": 4,
  "nbformat_minor": 0
}
